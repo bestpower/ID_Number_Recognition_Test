{
 "cells": [
  {
   "cell_type": "code",
   "execution_count": 3,
   "metadata": {},
   "outputs": [
    {
     "data": {
      "image/png": "[encoded data removed]",
      "text/plain": [
       "<Figure size 432x288 with 1 Axes>"
      ]
     },
     "metadata": {
      "needs_background": "light"
     },
     "output_type": "display_data"
    },
    {
     "name": "stdout",
     "output_type": "stream",
     "text": [
      "识别该身份证号码是:110108199611240 188\n",
      "总共耗时：1.4790847301483154s\n"
     ]
    }
   ],
   "source": [
    "#-*-coding:utf-8-*-\n",
    "import sys\n",
    "import time\n",
    "from PIL import Image\n",
    "import pytesseract as pta\n",
    "import matplotlib.pyplot as plt\n",
    "\n",
    "# 二值化\n",
    "def binarizing(img,threshold):\n",
    "    pixdata = img.load()\n",
    "    w, h = img.size\n",
    "    for y in range(h):\n",
    "        for x in range(w):\n",
    "            if pixdata[x, y] < threshold:\n",
    "                pixdata[x, y] = 0\n",
    "            else:\n",
    "                pixdata[x, y] = 255\n",
    "    return img\n",
    "\n",
    "# 去除干扰线\n",
    "def depoint(img):   #input: gray image\n",
    "    pixdata = img.load()\n",
    "    w,h = img.size\n",
    "    for y in range(1,h-1):\n",
    "        for x in range(1,w-1):\n",
    "            count = 0\n",
    "            if pixdata[x,y-1] > 245:\n",
    "                count = count + 1\n",
    "            if pixdata[x,y+1] > 245:\n",
    "                count = count + 1\n",
    "            if pixdata[x-1,y] > 245:\n",
    "                count = count + 1\n",
    "            if pixdata[x+1,y] > 245:\n",
    "                count = count + 1\n",
    "            if count > 2:\n",
    "                pixdata[x,y] = 255\n",
    "    return img\n",
    "\n",
    "# 身份证号码识别\n",
    "def identity_OCR(pic_path):\n",
    "    # 身份证号码截图\n",
    "    img1=Image.open(pic_path)\n",
    "    w,h=img1.size\n",
    "    # 将身份证放大3倍（膨胀）\n",
    "    out=img1.resize((w*3,h*3),Image.ANTIALIAS)\n",
    "    region = (130*3,190*3,328*3,210*3)\n",
    "    # 裁切身份证号码图片\n",
    "    cropImg = out.crop(region)\n",
    "    # 转化为灰度图\n",
    "    img= cropImg.convert('L')\n",
    "    # 把图片变成二值图像，并显示\n",
    "    img1=binarizing(img,100)\n",
    "    img2=depoint(img1)\n",
    "    plt.imshow(img2)\n",
    "    plt.show()\n",
    "    # 调用识别方法\n",
    "    code = pta.image_to_string(img2, lang='chi_sim')\n",
    "    print (\"识别该身份证号码是:\"+ str(code))\n",
    "\n",
    "if __name__ == '__main__':\n",
    "    # 计时起点\n",
    "    time1 = time.time()\n",
    "    pic_path=\"yangzheng.jpg\"\n",
    "    identity_OCR(pic_path)\n",
    "    # 计时终点\n",
    "    time2 = time.time()\n",
    "    print (u'总共耗时：' + str(time2 - time1) + 's')"
   ]
  },
  {
   "cell_type": "code",
   "execution_count": null,
   "metadata": {},
   "outputs": [],
   "source": []
  }
 ],
 "metadata": {
  "kernelspec": {
   "display_name": "Python 3",
   "language": "python",
   "name": "python3"
  },
  "language_info": {
   "codemirror_mode": {
    "name": "ipython",
    "version": 3
   },
   "file_extension": ".py",
   "mimetype": "text/x-python",
   "name": "python",
   "nbconvert_exporter": "python",
   "pygments_lexer": "ipython3",
   "version": "3.5.6"
  }
 },
 "nbformat": 4,
 "nbformat_minor": 2
}
